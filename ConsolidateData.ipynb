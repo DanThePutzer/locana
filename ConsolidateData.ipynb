{
 "cells": [
  {
   "cell_type": "markdown",
   "metadata": {},
   "source": [
    "### Dataset Setup\n",
    "The dataset has a fairly convoluted structure.  \n",
    "This notebook should help consolidate the data and make it easier to work with.\n",
    "\n",
    "Place the raw, unzipped dataset in the same directory as this notebook, rename it to **Raw** and run the following cells."
   ]
  },
  {
   "cell_type": "code",
   "execution_count": null,
   "metadata": {},
   "outputs": [],
   "source": [
    "# Importing packages\n",
    "import os\n",
    "import shutil\n",
    "from tqdm.notebook import tqdm"
   ]
  },
  {
   "cell_type": "code",
   "execution_count": null,
   "metadata": {},
   "outputs": [],
   "source": [
    "# Deleting unnecessary nested duplicate of dataset\n",
    "try:\n",
    "    shutil.rmtree('Raw/leapGestRecog/leapGestRecog')\n",
    "except:\n",
    "    print('Duplicates Already Removed')"
   ]
  },
  {
   "cell_type": "code",
   "execution_count": null,
   "metadata": {},
   "outputs": [],
   "source": [
    "# Creating consolidated dataset folder\n",
    "try:\n",
    "    os.mkdir('Data')\n",
    "except:\n",
    "    print('Target Directory Already Created')"
   ]
  },
  {
   "cell_type": "code",
   "execution_count": null,
   "metadata": {},
   "outputs": [],
   "source": [
    "# Walking dataset directory structure\n",
    "for root, dirs, files in tqdm(os.walk('Raw/leapGestRecog', topdown=True), total = 111, desc = \"Consolidating Data\"):\n",
    "    # Converting path to string\n",
    "    pathAsString = os.path.normpath(root)\n",
    "    # Determining depth by splitting path into subcomponents\n",
    "    depth = len(pathAsString.split(os.sep))\n",
    "    \n",
    "    # Only if depth is 3 we are actually in a label folder\n",
    "    if depth == 4:\n",
    "        try:\n",
    "            # Getting the name of the current folder which is also the label for the images in it\n",
    "            targetGroup = os.path.split(root)[-1]\n",
    "            # Creating path for directory to be created in consolidated dataset folder\n",
    "            creationPath = os.path.join('Data', targetGroup)\n",
    "            os.mkdir(creationPath)\n",
    "        except:\n",
    "            pass\n",
    "        \n",
    "        # Looping over individual files\n",
    "        for file in files:\n",
    "            # Constructing origin path\n",
    "            origin = os.path.join(root, file)\n",
    "            # Constructing target path\n",
    "            target = os.path.join('Data/', targetGroup)\n",
    "            # Copying files to consolidated dataset folder\n",
    "            shutil.copy(origin, target)"
   ]
  },
  {
   "cell_type": "code",
   "execution_count": null,
   "metadata": {},
   "outputs": [],
   "source": []
  }
 ],
 "metadata": {
  "kernelspec": {
   "display_name": "Python 3",
   "language": "python",
   "name": "python3"
  },
  "language_info": {
   "codemirror_mode": {
    "name": "ipython",
    "version": 3
   },
   "file_extension": ".py",
   "mimetype": "text/x-python",
   "name": "python",
   "nbconvert_exporter": "python",
   "pygments_lexer": "ipython3",
   "version": "3.7.5"
  }
 },
 "nbformat": 4,
 "nbformat_minor": 2
}
